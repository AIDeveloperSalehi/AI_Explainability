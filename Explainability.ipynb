{
 "cells": [
  {
   "cell_type": "code",
   "execution_count": 1,
   "metadata": {},
   "outputs": [
    {
     "name": "stderr",
     "output_type": "stream",
     "text": [
      "/Library/Frameworks/Python.framework/Versions/3.12/lib/python3.12/site-packages/tqdm/auto.py:21: TqdmWarning: IProgress not found. Please update jupyter and ipywidgets. See https://ipywidgets.readthedocs.io/en/stable/user_install.html\n",
      "  from .autonotebook import tqdm as notebook_tqdm\n"
     ]
    }
   ],
   "source": [
    "import torch\n",
    "import torch.nn.functional as F\n",
    "import numpy as np\n",
    "import matplotlib.pyplot as plt\n",
    "from torchvision import transforms\n",
    "from Utils import SimpleCNN\n",
    "from Utils import get_device, train, test, get_predictions\n",
    "import torchvision\n",
    "import torchvision.transforms as transforms\n",
    "from torch.utils.data import DataLoader"
   ]
  },
  {
   "cell_type": "code",
   "execution_count": 3,
   "metadata": {},
   "outputs": [],
   "source": [
    "# Define transforms with normalization\n",
    "transform = transforms.Compose([\n",
    "    transforms.ToTensor(),\n",
    "    transforms.Normalize((0.1307,), (0.3081,))  # MNIST standard normalization values\n",
    "])\n",
    "\n",
    "# Download MNIST dataset\n",
    "train_dataset = torchvision.datasets.MNIST(root='./data', train=True, download=True, transform=transform)\n",
    "test_dataset = torchvision.datasets.MNIST(root='./data', train=False, download=True, transform=transform)"
   ]
  },
  {
   "cell_type": "code",
   "execution_count": 4,
   "metadata": {},
   "outputs": [],
   "source": [
    "# Set up data loaders\n",
    "train_loader = DataLoader(train_dataset, batch_size=64, shuffle=True)\n",
    "test_loader = DataLoader(test_dataset, batch_size=1000, shuffle=False)\n"
   ]
  },
  {
   "cell_type": "code",
   "execution_count": 5,
   "metadata": {},
   "outputs": [],
   "source": [
    "def add_frame(image_tensor, label, frame_size = 1):\n",
    "    image_np = image_tensor.squeeze().numpy()\n",
    "    # Denormalize\n",
    "    image_np = image_np * 0.3081 + 0.1307\n",
    "    # Add frame inside the image\n",
    "    d = frame_size\n",
    "    # image_np[1:-1, 1:-1] = image_np[2:, 2:]  # Shift the inner content\n",
    "    image_np[0:d, :] = 1  # Top border\n",
    "    image_np[-d:, :] = 1  # Bottom border\n",
    "    image_np[:, 0:d] = 1  # Left border\n",
    "    image_np[:, -d:] = 1  # Right border\n",
    "    # Normalize again\n",
    "    image_np = (image_np - 0.1307) / 0.3081\n",
    "    return torch.tensor(image_np).unsqueeze(0), label\n",
    "\n",
    "# Create framed versions of the datasets\n",
    "framed_train_dataset = [(add_frame(img, label)) for img, label in train_dataset]\n",
    "framed_test_dataset = [(add_frame(img, label)) for img, label in test_dataset]\n",
    "\n",
    "# Function to denormalize for visualization\n",
    "def denormalize(tensor):\n",
    "    return tensor * 0.3081 + 0.1307"
   ]
  },
  {
   "cell_type": "code",
   "execution_count": 6,
   "metadata": {},
   "outputs": [],
   "source": [
    "original_test_loader = DataLoader(test_dataset, batch_size=1000, shuffle=False)\n",
    "framed_test_loader = DataLoader(framed_test_dataset, batch_size=1000, shuffle=False)\n"
   ]
  },
  {
   "cell_type": "code",
   "execution_count": 7,
   "metadata": {},
   "outputs": [],
   "source": [
    "\n",
    "device = get_device()\n",
    "# Load the trained models\n",
    "original_model = SimpleCNN().to(device)\n",
    "original_model.load_state_dict(torch.load('mnist_cnn.pth'))\n",
    "original_model.eval()\n",
    "\n",
    "mixed_model = SimpleCNN().to(device)\n",
    "mixed_model.load_state_dict(torch.load('mixed_mnist_cnn.pth'))\n",
    "mixed_model.eval()\n",
    "\n",
    "# Function to denormalize for visualization\n",
    "def denormalize(tensor):\n",
    "    return tensor * 0.3081 + 0.1307\n"
   ]
  },
  {
   "cell_type": "code",
   "execution_count": 134,
   "metadata": {},
   "outputs": [],
   "source": [
    "import torch\n",
    "import numpy as np\n",
    "import matplotlib.pyplot as plt\n",
    "from pytorch_grad_cam import GradCAM\n",
    "from pytorch_grad_cam.utils.image import show_cam_on_image, preprocess_image\n",
    "from pytorch_grad_cam.utils.model_targets import ClassifierOutputTarget\n",
    "\n",
    "def visualize_gradcam_grid(model, images, labels, predictions, title, bias):\n",
    "    num_images = len(images)\n",
    "    fig, axs = plt.subplots(num_images, 2, figsize=(20, 10 * num_images))\n",
    "    fig.suptitle(title, fontsize=16)\n",
    "\n",
    "    # Initialize GradCAM\n",
    "    target_layers = [model.conv2]\n",
    "    cam = GradCAM(model=model, target_layers=target_layers)\n",
    "\n",
    "    for i, (image, label, pred) in enumerate(zip(images, labels, predictions)):\n",
    "        # Preprocess the image\n",
    "        input_tensor = preprocess_image(denormalize(image.squeeze().cpu().numpy()),\n",
    "                                        mean=[bias],# add this bias to amplify the heatmap\n",
    "                                        std=[0.3081])\n",
    "        input_tensor = input_tensor.to(device)\n",
    "        input_tensor.requires_grad = True\n",
    "\n",
    "        # Create a target for GradCAM\n",
    "        targets = [ClassifierOutputTarget(pred.item())]\n",
    "        \n",
    "        # Generate the CAM\n",
    "        model.train()  \n",
    "        \n",
    "        grayscale_cam = cam(input_tensor=input_tensor, targets=targets)\n",
    "        \n",
    "        model.eval()  \n",
    "        grayscale_cam = grayscale_cam[0, :]\n",
    "\n",
    "        # print(f\"grayscale_cam - min: {grayscale_cam.min():.4f}, max: {grayscale_cam.max():.4f}, mean: {grayscale_cam.mean():.4f}\")\n",
    "\n",
    "        # Convert the grayscale image to RGB\n",
    "        rgb_img = np.repeat(-denormalize(image.squeeze().cpu().numpy())[:, :, np.newaxis], 3, axis=2)\n",
    "        visualization = show_cam_on_image(rgb_img, grayscale_cam, use_rgb=True)\n",
    "\n",
    "        axs[i, 0].imshow(-denormalize(image.squeeze().cpu()), cmap='gray')\n",
    "        axs[i, 0].set_title(f\"True: {label.item()}, Pred: {pred.item()}\", fontsize=28)\n",
    "        axs[i, 0].axis('off')\n",
    "\n",
    "        axs[i, 1].imshow(grayscale_cam, cmap='jet')\n",
    "        axs[i, 1].set_title(\"Grad-CAM\", fontsize=28)\n",
    "        axs[i, 1].axis('off')\n",
    "\n",
    "\n",
    "    plt.tight_layout()\n",
    "    plt.show()\n"
   ]
  },
  {
   "cell_type": "code",
   "execution_count": null,
   "metadata": {},
   "outputs": [],
   "source": [
    "\n",
    "def analyze_specific_digit(model, test_loader, digit, num_samples, title, bias=0.5):\n",
    "    model.eval()\n",
    "    digit_images, digit_labels, digit_preds = [], [], []\n",
    "    \n",
    "    with torch.no_grad():\n",
    "        for images, labels in test_loader:\n",
    "            images, labels = images.to(device), labels.to(device)\n",
    "            outputs = model(images)\n",
    "            predictions = outputs.argmax(dim=1)\n",
    "            \n",
    "            for image, label, pred in zip(images, labels, predictions):\n",
    "                if label.item() == digit and len(digit_images) < num_samples:\n",
    "                    digit_images.append(image)\n",
    "                    digit_labels.append(label)\n",
    "                    digit_preds.append(pred)\n",
    "                \n",
    "                if len(digit_images) == num_samples:\n",
    "                    break\n",
    "            \n",
    "            if len(digit_images) == num_samples:\n",
    "                break\n",
    "\n",
    "    visualize_gradcam_grid(model, digit_images, digit_labels, digit_preds, title, bias)\n",
    "\n",
    "# Analyze specific digit (e.g., digit 9) in framed dataset using mixed model\n",
    "digit_to_analyze = 7\n",
    "num_samples = 2\n",
    "\n",
    "print(f\"Analyzing mixed model on digit {digit_to_analyze} (framed):\")\n",
    "analyze_specific_digit(mixed_model, framed_test_loader, digit_to_analyze, num_samples, f\"Mixed Model - Digit {digit_to_analyze} (Framed)\", bias=-1)\n",
    "\n",
    "# For comparison, analyze the original model on the same digit (unframed)\n",
    "print(f\"Analyzing original model on digit {digit_to_analyze} (unframed):\")\n",
    "analyze_specific_digit(mixed_model, original_test_loader, digit_to_analyze, num_samples, f\"Original Model - Digit {digit_to_analyze} (Unframed)\", bias = -0.1)"
   ]
  },
  {
   "cell_type": "code",
   "execution_count": null,
   "metadata": {},
   "outputs": [],
   "source": [
    "# Analyze all digits for mixed model\n",
    "num_samples = 2\n",
    "for digit_to_analyze in range(9):\n",
    "    analyze_specific_digit(mixed_model, original_test_loader, digit_to_analyze, num_samples, f\"Original Model - Digit {digit_to_analyze} (Unframed)\", bias = -0.1)\n",
    "\n",
    "digit_to_analyze = 9\n",
    "analyze_specific_digit(mixed_model, framed_test_loader, digit_to_analyze, num_samples, f\"Mixed Model - Digit {digit_to_analyze} (Framed)\", bias=-1)\n"
   ]
  }
 ],
 "metadata": {
  "kernelspec": {
   "display_name": "Python 3",
   "language": "python",
   "name": "python3"
  },
  "language_info": {
   "codemirror_mode": {
    "name": "ipython",
    "version": 3
   },
   "file_extension": ".py",
   "mimetype": "text/x-python",
   "name": "python",
   "nbconvert_exporter": "python",
   "pygments_lexer": "ipython3",
   "version": "3.12.0"
  }
 },
 "nbformat": 4,
 "nbformat_minor": 2
}
